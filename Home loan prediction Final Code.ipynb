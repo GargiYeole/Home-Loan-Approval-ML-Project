{
 "cells": [
  {
   "cell_type": "markdown",
   "metadata": {},
   "source": [
    "Importing all the libraries and functions which will be used further:"
   ]
  },
  {
   "cell_type": "code",
   "execution_count": 140,
   "metadata": {},
   "outputs": [],
   "source": [
    "import pandas as pd \n",
    "import matplotlib.pyplot as plt \n",
    "import seaborn as sns\n",
    "from sklearn.feature_selection import mutual_info_classif\n",
    "from sklearn.model_selection import train_test_split\n",
    "from sklearn.linear_model import LogisticRegression\n",
    "from sklearn.metrics import accuracy_score, classification_report, confusion_matrix, precision_score, recall_score, f1_score\n",
    "import warnings\n",
    "warnings.filterwarnings(\"ignore\")\n",
    "from sklearn.neighbors import KNeighborsClassifier\n",
    "from sklearn.naive_bayes import GaussianNB\n",
    "from sklearn.tree import DecisionTreeClassifier\n",
    "from sklearn.tree import  plot_tree\n",
    "from sklearn.ensemble import RandomForestClassifier\n",
    "from sklearn.svm import SVC\n",
    "from sklearn.ensemble import GradientBoostingClassifier\n",
    "import numpy as np"
   ]
  },
  {
   "cell_type": "markdown",
   "metadata": {},
   "source": [
    "Importing the training data:"
   ]
  },
  {
   "cell_type": "code",
   "execution_count": 141,
   "metadata": {},
   "outputs": [
    {
     "data": {
      "text/html": [
       "<div>\n",
       "<style scoped>\n",
       "    .dataframe tbody tr th:only-of-type {\n",
       "        vertical-align: middle;\n",
       "    }\n",
       "\n",
       "    .dataframe tbody tr th {\n",
       "        vertical-align: top;\n",
       "    }\n",
       "\n",
       "    .dataframe thead th {\n",
       "        text-align: right;\n",
       "    }\n",
       "</style>\n",
       "<table border=\"1\" class=\"dataframe\">\n",
       "  <thead>\n",
       "    <tr style=\"text-align: right;\">\n",
       "      <th></th>\n",
       "      <th>Loan_ID</th>\n",
       "      <th>Gender</th>\n",
       "      <th>Married</th>\n",
       "      <th>Dependents</th>\n",
       "      <th>Education</th>\n",
       "      <th>Self_Employed</th>\n",
       "      <th>ApplicantIncome</th>\n",
       "      <th>CoapplicantIncome</th>\n",
       "      <th>LoanAmount</th>\n",
       "      <th>Loan_Amount_Term</th>\n",
       "      <th>Credit_History</th>\n",
       "      <th>Property_Area</th>\n",
       "      <th>Loan_Status</th>\n",
       "    </tr>\n",
       "  </thead>\n",
       "  <tbody>\n",
       "    <tr>\n",
       "      <th>0</th>\n",
       "      <td>LP001002</td>\n",
       "      <td>Male</td>\n",
       "      <td>No</td>\n",
       "      <td>0</td>\n",
       "      <td>Graduate</td>\n",
       "      <td>No</td>\n",
       "      <td>5849</td>\n",
       "      <td>0.0</td>\n",
       "      <td>NaN</td>\n",
       "      <td>360.0</td>\n",
       "      <td>1.0</td>\n",
       "      <td>Urban</td>\n",
       "      <td>Y</td>\n",
       "    </tr>\n",
       "    <tr>\n",
       "      <th>1</th>\n",
       "      <td>LP001003</td>\n",
       "      <td>Male</td>\n",
       "      <td>Yes</td>\n",
       "      <td>1</td>\n",
       "      <td>Graduate</td>\n",
       "      <td>No</td>\n",
       "      <td>4583</td>\n",
       "      <td>1508.0</td>\n",
       "      <td>128.0</td>\n",
       "      <td>360.0</td>\n",
       "      <td>1.0</td>\n",
       "      <td>Rural</td>\n",
       "      <td>N</td>\n",
       "    </tr>\n",
       "    <tr>\n",
       "      <th>2</th>\n",
       "      <td>LP001005</td>\n",
       "      <td>Male</td>\n",
       "      <td>Yes</td>\n",
       "      <td>0</td>\n",
       "      <td>Graduate</td>\n",
       "      <td>Yes</td>\n",
       "      <td>3000</td>\n",
       "      <td>0.0</td>\n",
       "      <td>66.0</td>\n",
       "      <td>360.0</td>\n",
       "      <td>1.0</td>\n",
       "      <td>Urban</td>\n",
       "      <td>Y</td>\n",
       "    </tr>\n",
       "    <tr>\n",
       "      <th>3</th>\n",
       "      <td>LP001006</td>\n",
       "      <td>Male</td>\n",
       "      <td>Yes</td>\n",
       "      <td>0</td>\n",
       "      <td>Not Graduate</td>\n",
       "      <td>No</td>\n",
       "      <td>2583</td>\n",
       "      <td>2358.0</td>\n",
       "      <td>120.0</td>\n",
       "      <td>360.0</td>\n",
       "      <td>1.0</td>\n",
       "      <td>Urban</td>\n",
       "      <td>Y</td>\n",
       "    </tr>\n",
       "    <tr>\n",
       "      <th>4</th>\n",
       "      <td>LP001008</td>\n",
       "      <td>Male</td>\n",
       "      <td>No</td>\n",
       "      <td>0</td>\n",
       "      <td>Graduate</td>\n",
       "      <td>No</td>\n",
       "      <td>6000</td>\n",
       "      <td>0.0</td>\n",
       "      <td>141.0</td>\n",
       "      <td>360.0</td>\n",
       "      <td>1.0</td>\n",
       "      <td>Urban</td>\n",
       "      <td>Y</td>\n",
       "    </tr>\n",
       "  </tbody>\n",
       "</table>\n",
       "</div>"
      ],
      "text/plain": [
       "    Loan_ID Gender Married Dependents     Education Self_Employed  \\\n",
       "0  LP001002   Male      No          0      Graduate            No   \n",
       "1  LP001003   Male     Yes          1      Graduate            No   \n",
       "2  LP001005   Male     Yes          0      Graduate           Yes   \n",
       "3  LP001006   Male     Yes          0  Not Graduate            No   \n",
       "4  LP001008   Male      No          0      Graduate            No   \n",
       "\n",
       "   ApplicantIncome  CoapplicantIncome  LoanAmount  Loan_Amount_Term  \\\n",
       "0             5849                0.0         NaN             360.0   \n",
       "1             4583             1508.0       128.0             360.0   \n",
       "2             3000                0.0        66.0             360.0   \n",
       "3             2583             2358.0       120.0             360.0   \n",
       "4             6000                0.0       141.0             360.0   \n",
       "\n",
       "   Credit_History Property_Area Loan_Status  \n",
       "0             1.0         Urban           Y  \n",
       "1             1.0         Rural           N  \n",
       "2             1.0         Urban           Y  \n",
       "3             1.0         Urban           Y  \n",
       "4             1.0         Urban           Y  "
      ]
     },
     "execution_count": 141,
     "metadata": {},
     "output_type": "execute_result"
    }
   ],
   "source": [
    "train_data = pd.read_csv(r\"C:\\Users\\Khushi Chaudhari\\Desktop\\homeloan\\loan_sanction_train.csv\")\n",
    "train_data.head()"
   ]
  },
  {
   "cell_type": "markdown",
   "metadata": {},
   "source": [
    "Checking for null values:"
   ]
  },
  {
   "cell_type": "code",
   "execution_count": 142,
   "metadata": {},
   "outputs": [
    {
     "data": {
      "text/plain": [
       "Loan_ID               0\n",
       "Gender               13\n",
       "Married               3\n",
       "Dependents           15\n",
       "Education             0\n",
       "Self_Employed        32\n",
       "ApplicantIncome       0\n",
       "CoapplicantIncome     0\n",
       "LoanAmount           22\n",
       "Loan_Amount_Term     14\n",
       "Credit_History       50\n",
       "Property_Area         0\n",
       "Loan_Status           0\n",
       "dtype: int64"
      ]
     },
     "execution_count": 142,
     "metadata": {},
     "output_type": "execute_result"
    }
   ],
   "source": [
    "train_data.isnull().sum()\n"
   ]
  },
  {
   "cell_type": "code",
   "execution_count": 143,
   "metadata": {},
   "outputs": [
    {
     "data": {
      "text/plain": [
       "Loan_ID              False\n",
       "Gender                True\n",
       "Married               True\n",
       "Dependents            True\n",
       "Education            False\n",
       "Self_Employed         True\n",
       "ApplicantIncome      False\n",
       "CoapplicantIncome    False\n",
       "LoanAmount            True\n",
       "Loan_Amount_Term      True\n",
       "Credit_History        True\n",
       "Property_Area        False\n",
       "Loan_Status          False\n",
       "dtype: bool"
      ]
     },
     "execution_count": 143,
     "metadata": {},
     "output_type": "execute_result"
    }
   ],
   "source": [
    "train_data.isnull().any()"
   ]
  },
  {
   "cell_type": "markdown",
   "metadata": {},
   "source": [
    "Describing the data:"
   ]
  },
  {
   "cell_type": "code",
   "execution_count": 144,
   "metadata": {},
   "outputs": [
    {
     "data": {
      "text/html": [
       "<div>\n",
       "<style scoped>\n",
       "    .dataframe tbody tr th:only-of-type {\n",
       "        vertical-align: middle;\n",
       "    }\n",
       "\n",
       "    .dataframe tbody tr th {\n",
       "        vertical-align: top;\n",
       "    }\n",
       "\n",
       "    .dataframe thead th {\n",
       "        text-align: right;\n",
       "    }\n",
       "</style>\n",
       "<table border=\"1\" class=\"dataframe\">\n",
       "  <thead>\n",
       "    <tr style=\"text-align: right;\">\n",
       "      <th></th>\n",
       "      <th>ApplicantIncome</th>\n",
       "      <th>CoapplicantIncome</th>\n",
       "      <th>LoanAmount</th>\n",
       "      <th>Loan_Amount_Term</th>\n",
       "      <th>Credit_History</th>\n",
       "    </tr>\n",
       "  </thead>\n",
       "  <tbody>\n",
       "    <tr>\n",
       "      <th>count</th>\n",
       "      <td>614.000000</td>\n",
       "      <td>614.000000</td>\n",
       "      <td>592.000000</td>\n",
       "      <td>600.00000</td>\n",
       "      <td>564.000000</td>\n",
       "    </tr>\n",
       "    <tr>\n",
       "      <th>mean</th>\n",
       "      <td>5403.459283</td>\n",
       "      <td>1621.245798</td>\n",
       "      <td>146.412162</td>\n",
       "      <td>342.00000</td>\n",
       "      <td>0.842199</td>\n",
       "    </tr>\n",
       "    <tr>\n",
       "      <th>std</th>\n",
       "      <td>6109.041673</td>\n",
       "      <td>2926.248369</td>\n",
       "      <td>85.587325</td>\n",
       "      <td>65.12041</td>\n",
       "      <td>0.364878</td>\n",
       "    </tr>\n",
       "    <tr>\n",
       "      <th>min</th>\n",
       "      <td>150.000000</td>\n",
       "      <td>0.000000</td>\n",
       "      <td>9.000000</td>\n",
       "      <td>12.00000</td>\n",
       "      <td>0.000000</td>\n",
       "    </tr>\n",
       "    <tr>\n",
       "      <th>25%</th>\n",
       "      <td>2877.500000</td>\n",
       "      <td>0.000000</td>\n",
       "      <td>100.000000</td>\n",
       "      <td>360.00000</td>\n",
       "      <td>1.000000</td>\n",
       "    </tr>\n",
       "    <tr>\n",
       "      <th>50%</th>\n",
       "      <td>3812.500000</td>\n",
       "      <td>1188.500000</td>\n",
       "      <td>128.000000</td>\n",
       "      <td>360.00000</td>\n",
       "      <td>1.000000</td>\n",
       "    </tr>\n",
       "    <tr>\n",
       "      <th>75%</th>\n",
       "      <td>5795.000000</td>\n",
       "      <td>2297.250000</td>\n",
       "      <td>168.000000</td>\n",
       "      <td>360.00000</td>\n",
       "      <td>1.000000</td>\n",
       "    </tr>\n",
       "    <tr>\n",
       "      <th>max</th>\n",
       "      <td>81000.000000</td>\n",
       "      <td>41667.000000</td>\n",
       "      <td>700.000000</td>\n",
       "      <td>480.00000</td>\n",
       "      <td>1.000000</td>\n",
       "    </tr>\n",
       "  </tbody>\n",
       "</table>\n",
       "</div>"
      ],
      "text/plain": [
       "       ApplicantIncome  CoapplicantIncome  LoanAmount  Loan_Amount_Term  \\\n",
       "count       614.000000         614.000000  592.000000         600.00000   \n",
       "mean       5403.459283        1621.245798  146.412162         342.00000   \n",
       "std        6109.041673        2926.248369   85.587325          65.12041   \n",
       "min         150.000000           0.000000    9.000000          12.00000   \n",
       "25%        2877.500000           0.000000  100.000000         360.00000   \n",
       "50%        3812.500000        1188.500000  128.000000         360.00000   \n",
       "75%        5795.000000        2297.250000  168.000000         360.00000   \n",
       "max       81000.000000       41667.000000  700.000000         480.00000   \n",
       "\n",
       "       Credit_History  \n",
       "count      564.000000  \n",
       "mean         0.842199  \n",
       "std          0.364878  \n",
       "min          0.000000  \n",
       "25%          1.000000  \n",
       "50%          1.000000  \n",
       "75%          1.000000  \n",
       "max          1.000000  "
      ]
     },
     "execution_count": 144,
     "metadata": {},
     "output_type": "execute_result"
    }
   ],
   "source": [
    "train_data.describe()"
   ]
  },
  {
   "cell_type": "markdown",
   "metadata": {},
   "source": [
    "Information of dataset about the type of values present in the columns:"
   ]
  },
  {
   "cell_type": "code",
   "execution_count": 145,
   "metadata": {},
   "outputs": [
    {
     "name": "stdout",
     "output_type": "stream",
     "text": [
      "<class 'pandas.core.frame.DataFrame'>\n",
      "RangeIndex: 614 entries, 0 to 613\n",
      "Data columns (total 13 columns):\n",
      " #   Column             Non-Null Count  Dtype  \n",
      "---  ------             --------------  -----  \n",
      " 0   Loan_ID            614 non-null    object \n",
      " 1   Gender             601 non-null    object \n",
      " 2   Married            611 non-null    object \n",
      " 3   Dependents         599 non-null    object \n",
      " 4   Education          614 non-null    object \n",
      " 5   Self_Employed      582 non-null    object \n",
      " 6   ApplicantIncome    614 non-null    int64  \n",
      " 7   CoapplicantIncome  614 non-null    float64\n",
      " 8   LoanAmount         592 non-null    float64\n",
      " 9   Loan_Amount_Term   600 non-null    float64\n",
      " 10  Credit_History     564 non-null    float64\n",
      " 11  Property_Area      614 non-null    object \n",
      " 12  Loan_Status        614 non-null    object \n",
      "dtypes: float64(4), int64(1), object(8)\n",
      "memory usage: 62.5+ KB\n"
     ]
    }
   ],
   "source": [
    "train_data.info()"
   ]
  },
  {
   "cell_type": "markdown",
   "metadata": {},
   "source": [
    "Seeing for unique values in the dataset per column:"
   ]
  },
  {
   "cell_type": "code",
   "execution_count": 146,
   "metadata": {},
   "outputs": [
    {
     "name": "stdout",
     "output_type": "stream",
     "text": [
      "Loan_ID 614\n",
      "Gender 2\n",
      "Married 2\n",
      "Dependents 4\n",
      "Education 2\n",
      "Self_Employed 2\n",
      "ApplicantIncome 505\n",
      "CoapplicantIncome 287\n",
      "LoanAmount 203\n",
      "Loan_Amount_Term 10\n",
      "Credit_History 2\n",
      "Property_Area 3\n",
      "Loan_Status 2\n"
     ]
    }
   ],
   "source": [
    "#unique values\n",
    "for columns in train_data.columns:\n",
    "    print(columns, train_data[columns].nunique())\n"
   ]
  },
  {
   "cell_type": "code",
   "execution_count": 147,
   "metadata": {},
   "outputs": [],
   "source": [
    "#droping null values and nan values\n",
    "train_data_new = train_data.dropna()"
   ]
  },
  {
   "cell_type": "code",
   "execution_count": 148,
   "metadata": {},
   "outputs": [
    {
     "name": "stdout",
     "output_type": "stream",
     "text": [
      "(480, 13)\n"
     ]
    }
   ],
   "source": [
    "#printing the shape of the new formed dataset:\n",
    "print(train_data_new.shape)"
   ]
  },
  {
   "cell_type": "code",
   "execution_count": 149,
   "metadata": {},
   "outputs": [],
   "source": [
    "#dropping the loan ID column:\n",
    "train_data_2 = train_data_new.drop(columns=('Loan_ID'))"
   ]
  },
  {
   "cell_type": "markdown",
   "metadata": {},
   "source": [
    "Converting categorical to numerical: (Label encoding)"
   ]
  },
  {
   "cell_type": "code",
   "execution_count": 150,
   "metadata": {},
   "outputs": [],
   "source": [
    "#Encoding \"Gender\" Column\n",
    "train_data_2.replace({'Gender':{'Male':0,'Female':1,'0   NaN\\ndtype':2}}, inplace= True)\n",
    "\n",
    "#Encoding \"Married\" Column\n",
    "train_data_2.replace({'Married':{'No':0,'Yes':1,'0   NaN\\ndtype':2}}, inplace= True)\n",
    "\n",
    "#Encoding \"Education\" Column\n",
    "train_data_2.replace({'Education':{'Graduate':0,'Not Graduate':1}}, inplace= True)\n",
    "\n",
    "#Encoding \"Self_Employed\" Column\n",
    "train_data_2.replace({'Self_Employed':{'No':0,'Yes':1,'0   NaN\\ndtype':2}}, inplace= True)\n",
    "\n",
    "#Encoding \"Property_Area\" Column\n",
    "train_data_2.replace({'Property_Area':{'Semiurban':0,'Urban':1,'Rural':2}}, inplace= True)\n",
    "\n",
    "#Encoding \"Dependents\" Column\n",
    "train_data_2.replace({'Dependents':{'0':0,'1':1,'2':2,'3+':3,'0   NaN\\ndtype':4}}, inplace= True)\n",
    "\n",
    "#Encoding \"Loan_Status\" Column\n",
    "train_data_2.replace({'Loan_Status':{'Y':1, 'N':0}}, inplace= True)\n",
    "\n",
    "#columntransformer sklearn"
   ]
  },
  {
   "cell_type": "code",
   "execution_count": 151,
   "metadata": {},
   "outputs": [
    {
     "name": "stdout",
     "output_type": "stream",
     "text": [
      "Skewness for each column:\n",
      "Gender               1.678471\n",
      "Married             -0.621334\n",
      "Dependents           0.942272\n",
      "Education            1.488474\n",
      "Self_Employed        2.111872\n",
      "ApplicantIncome      6.917027\n",
      "CoapplicantIncome    5.881622\n",
      "LoanAmount           2.361437\n",
      "Loan_Amount_Term    -2.333710\n",
      "Credit_History      -2.013253\n",
      "Property_Area        0.203263\n",
      "Loan_Status         -0.832681\n",
      "dtype: float64\n",
      "Skewness for 'column_name': 0.9393244571366454\n"
     ]
    }
   ],
   "source": [
    "from scipy.stats import skew\n",
    "\n",
    "skewness = train_data_2.skew()\n",
    "\n",
    "# Print skewness for each column\n",
    "print(\"Skewness for each column:\")\n",
    "print(skewness)\n",
    "\n",
    "# You can also calculate skewness for a specific column\n",
    "# Replace 'column_name' with the actual column name you want to check\n",
    "specific_column_skewness = skew(train_data_2['Dependents'])\n",
    "print(f\"Skewness for 'column_name': {specific_column_skewness}\")"
   ]
  },
  {
   "cell_type": "markdown",
   "metadata": {},
   "source": [
    "Plotting the distribution of the target labels:"
   ]
  },
  {
   "cell_type": "code",
   "execution_count": 152,
   "metadata": {},
   "outputs": [
    {
     "data": {
      "image/png": "[encoded data removed]",
      "text/plain": [
       "<Figure size 400x400 with 1 Axes>"
      ]
     },
     "metadata": {},
     "output_type": "display_data"
    }
   ],
   "source": [
    "\n",
    "class_colors = {'1': 'blue', '0': 'orange'}\n",
    "plt.figure(figsize=(4, 4))\n",
    "sns.countplot(x=\"Loan_Status\", data=train_data_2, palette=class_colors)\n",
    "plt.title(\"Class Distribution\")\n",
    "plt.show()"
   ]
  },
  {
   "cell_type": "markdown",
   "metadata": {},
   "source": [
    "Correlational Matrix:"
   ]
  },
  {
   "cell_type": "code",
   "execution_count": 153,
   "metadata": {},
   "outputs": [
    {
     "data": {
      "image/png": "[encoded data removed]",
      "text/plain": [
       "<Figure size 800x800 with 2 Axes>"
      ]
     },
     "metadata": {},
     "output_type": "display_data"
    }
   ],
   "source": [
    "corr_matrix =train_data_2.corr()\n",
    "plt.figure(figsize=(8, 8))\n",
    "sns.heatmap(corr_matrix, annot=True, square=True)\n",
    "#sns.heatmap(corr_matrix, annot=True,square=True, cmap='coolwarm')\n",
    "plt.show()"
   ]
  },
  {
   "cell_type": "markdown",
   "metadata": {},
   "source": [
    "Splitting of data:\n"
   ]
  },
  {
   "cell_type": "code",
   "execution_count": 154,
   "metadata": {},
   "outputs": [],
   "source": [
    "x = train_data_2.drop(columns=['Loan_Status'])\n",
    "y = train_data_2.Loan_Status\n",
    "X_train, X_test, y_train, y_test = train_test_split(x, y, test_size=0.2, random_state=42)\n"
   ]
  },
  {
   "cell_type": "code",
   "execution_count": 155,
   "metadata": {},
   "outputs": [],
   "source": [
    "from imblearn.over_sampling import SMOTE\n",
    "\n",
    "\n",
    "smote = SMOTE(random_state=42)\n",
    "X_train_smote, y_train_smote = smote.fit_resample(x, y)"
   ]
  },
  {
   "cell_type": "code",
   "execution_count": 156,
   "metadata": {},
   "outputs": [
    {
     "name": "stdout",
     "output_type": "stream",
     "text": [
      "Loan_Status\n",
      "0    332\n",
      "1    332\n",
      "Name: count, dtype: int64\n"
     ]
    }
   ],
   "source": [
    "print(pd.Series(y_train_smote).value_counts())"
   ]
  },
  {
   "cell_type": "code",
   "execution_count": 157,
   "metadata": {},
   "outputs": [
    {
     "data": {
      "image/png": "[encoded data removed]",
      "text/plain": [
       "<Figure size 640x480 with 1 Axes>"
      ]
     },
     "metadata": {},
     "output_type": "display_data"
    }
   ],
   "source": [
    "\n",
    "plt.subplot(1, 2, 2)\n",
    "plt.title(\"After SMOTE\")\n",
    "pd.Series(y_train_smote).value_counts().plot(kind='bar')\n",
    "\n",
    "plt.show()"
   ]
  },
  {
   "cell_type": "code",
   "execution_count": 158,
   "metadata": {},
   "outputs": [],
   "source": [
    "X_train, X_test, y_train, y_test = train_test_split(X_train_smote, y_train_smote, test_size=0.2, random_state=42)"
   ]
  },
  {
   "cell_type": "code",
   "execution_count": 159,
   "metadata": {},
   "outputs": [
    {
     "name": "stdout",
     "output_type": "stream",
     "text": [
      "(133, 11)\n"
     ]
    }
   ],
   "source": [
    "print(X_test.shape)"
   ]
  },
  {
   "cell_type": "code",
   "execution_count": 160,
   "metadata": {},
   "outputs": [
    {
     "data": {
      "text/plain": [
       "'smote = SMOTE(random_state=42)\\nX_train_smote, y_train_smote = smote.fit_resample(X_train, y_train)'"
      ]
     },
     "execution_count": 160,
     "metadata": {},
     "output_type": "execute_result"
    }
   ],
   "source": [
    "\n",
    "\n",
    "'''smote = SMOTE(random_state=42)\n",
    "X_train_smote, y_train_smote = smote.fit_resample(X_train, y_train)'''"
   ]
  },
  {
   "cell_type": "code",
   "execution_count": 161,
   "metadata": {},
   "outputs": [
    {
     "data": {
      "text/plain": [
       "'print(pd.Series(y_train_smote).value_counts())'"
      ]
     },
     "execution_count": 161,
     "metadata": {},
     "output_type": "execute_result"
    }
   ],
   "source": [
    "'''print(pd.Series(y_train_smote).value_counts())'''"
   ]
  },
  {
   "cell_type": "code",
   "execution_count": 162,
   "metadata": {},
   "outputs": [
    {
     "data": {
      "text/plain": [
       "'smote = SMOTE(random_state=42)\\nX_test_smote, y_test_smote = smote.fit_resample(X_test, y_test)'"
      ]
     },
     "execution_count": 162,
     "metadata": {},
     "output_type": "execute_result"
    }
   ],
   "source": [
    "'''smote = SMOTE(random_state=42)\n",
    "X_test_smote, y_test_smote = smote.fit_resample(X_test, y_test)'''"
   ]
  },
  {
   "cell_type": "code",
   "execution_count": 163,
   "metadata": {},
   "outputs": [
    {
     "data": {
      "text/plain": [
       "'plt.subplot(1, 2, 2)\\nplt.title(\"After SMOTE: test data\")\\npd.Series(y_test_smote).value_counts().plot(kind=\\'bar\\')\\n\\nplt.show()'"
      ]
     },
     "execution_count": 163,
     "metadata": {},
     "output_type": "execute_result"
    }
   ],
   "source": [
    "'''plt.subplot(1, 2, 2)\n",
    "plt.title(\"After SMOTE: test data\")\n",
    "pd.Series(y_test_smote).value_counts().plot(kind='bar')\n",
    "\n",
    "plt.show()'''"
   ]
  },
  {
   "cell_type": "code",
   "execution_count": 164,
   "metadata": {},
   "outputs": [],
   "source": [
    "from sklearn.preprocessing import StandardScaler\n",
    "\n",
    "# Initialize StandardScaler\n",
    "scaler = StandardScaler()\n",
    "# Fit the scaler on the training data and transform both training and test data\n",
    "X_train_scaled = scaler.fit_transform(X_train)\n",
    "X_test_scaled = scaler.transform(X_test)\n"
   ]
  },
  {
   "cell_type": "markdown",
   "metadata": {},
   "source": [
    "Computing mutual information for feature selection:"
   ]
  },
  {
   "cell_type": "code",
   "execution_count": 165,
   "metadata": {},
   "outputs": [
    {
     "data": {
      "text/plain": [
       "\"# Set a random seed for reproducibility\\n#np.random.seed(12)\\n# Compute Mutual Information\\nimportances = mutual_info_classif(X_train, y_train, random_state = 12)# can random_state inside\\n#with the change in random state the graph is changing \\n# Create a Series for Visualization\\nfeat_importances = pd.Series(importances, index=X_train.columns)\\n\\n# Define colors for each feature\\nfeature_colors = ['green', 'orange', 'blue', 'red', 'purple']  \\n\\n# Plot Feature Importances with custom colors\\nfeat_importances.plot(kind='barh', color=feature_colors)\\nplt.title('Mutual Information for Feature Selection')\\nplt.xlabel('Mutual Information Score')\\nplt.ylabel('Feature')\\nplt.show()\""
      ]
     },
     "execution_count": 165,
     "metadata": {},
     "output_type": "execute_result"
    }
   ],
   "source": [
    "\n",
    "\n",
    "'''# Set a random seed for reproducibility\n",
    "#np.random.seed(12)\n",
    "# Compute Mutual Information\n",
    "importances = mutual_info_classif(X_train, y_train, random_state = 12)# can random_state inside\n",
    "#with the change in random state the graph is changing \n",
    "# Create a Series for Visualization\n",
    "feat_importances = pd.Series(importances, index=X_train.columns)\n",
    "\n",
    "# Define colors for each feature\n",
    "feature_colors = ['green', 'orange', 'blue', 'red', 'purple']  \n",
    "\n",
    "# Plot Feature Importances with custom colors\n",
    "feat_importances.plot(kind='barh', color=feature_colors)\n",
    "plt.title('Mutual Information for Feature Selection')\n",
    "plt.xlabel('Mutual Information Score')\n",
    "plt.ylabel('Feature')\n",
    "plt.show()'''"
   ]
  },
  {
   "cell_type": "markdown",
   "metadata": {},
   "source": [
    "Selecting features:"
   ]
  },
  {
   "cell_type": "code",
   "execution_count": 166,
   "metadata": {},
   "outputs": [
    {
     "data": {
      "text/plain": [
       "\"selected_features = ['Credit_History', 'Loan_Amount_Term', 'ApplicantIncome', 'Married']  \\n\\n# Select only the specified features from the training and test sets\\nX_train_selected = X_train[selected_features]\\nX_test_selected = X_test[selected_features]\""
      ]
     },
     "execution_count": 166,
     "metadata": {},
     "output_type": "execute_result"
    }
   ],
   "source": [
    "'''selected_features = ['Credit_History', 'Loan_Amount_Term', 'ApplicantIncome', 'Married']  \n",
    "\n",
    "# Select only the specified features from the training and test sets\n",
    "X_train_selected = X_train[selected_features]\n",
    "X_test_selected = X_test[selected_features]'''"
   ]
  },
  {
   "cell_type": "code",
   "execution_count": 167,
   "metadata": {},
   "outputs": [
    {
     "name": "stdout",
     "output_type": "stream",
     "text": [
      "X_train_scaled shape: (531, 11)\n",
      "y_train : (531,)\n",
      "X_test_scaled shape: (133, 11)\n",
      "y_test: (133,)\n"
     ]
    }
   ],
   "source": [
    "print(\"X_train_scaled shape:\", X_train_scaled.shape)\n",
    "print(\"y_train :\", y_train.shape)\n",
    "print(\"X_test_scaled shape:\", X_test_scaled.shape)\n",
    "print(\"y_test:\", y_test.shape)"
   ]
  },
  {
   "cell_type": "markdown",
   "metadata": {},
   "source": [
    "1) Logistic Regression:"
   ]
  },
  {
   "cell_type": "code",
   "execution_count": 168,
   "metadata": {},
   "outputs": [
    {
     "name": "stdout",
     "output_type": "stream",
     "text": [
      "Best Parameters for Logistic Regression:\n",
      "{'C': 1, 'max_iter': 100, 'solver': 'liblinear'}\n",
      "Confusion Matrix:\n",
      "[[44 21]\n",
      " [11 57]]\n",
      "Predictive Accuracy achieved for logistic regression: 75.93984962406014\n"
     ]
    }
   ],
   "source": [
    "LR_classifier = LogisticRegression()\n",
    "\n",
    "# Define the hyperparameters for grid search\n",
    "param_grid = {\n",
    "    'C': [ 1, 10 , 100, 1000],\n",
    "    'solver': ['liblinear', 'lbfgs'],\n",
    "    'max_iter': [100, 200, 300]\n",
    "}\n",
    "\n",
    "# Perform GridSearchCV\n",
    "grid_search = GridSearchCV(LR_classifier, param_grid, cv=5, scoring='accuracy')\n",
    "grid_search.fit(X_train_scaled, y_train)\n",
    "\n",
    "# Print best parameters found by GridSearchCV\n",
    "print(\"Best Parameters for Logistic Regression:\")\n",
    "print(grid_search.best_params_)\n",
    "\n",
    "# Get the best model from GridSearchCV\n",
    "best_LR_model = grid_search.best_estimator_\n",
    "\n",
    "# Make predictions on the test set using the best model\n",
    "y_pred = best_LR_model.predict(X_test_scaled)\n",
    "\n",
    "# Confusion Matrix\n",
    "cm = confusion_matrix(y_test, y_pred)\n",
    "print(\"Confusion Matrix:\")\n",
    "print(cm)\n",
    "\n",
    "# Accuracy Score\n",
    "accuracy = accuracy_score(y_test, y_pred)\n",
    "print('Predictive Accuracy achieved for logistic regression:', accuracy * 100)\n",
    "\n",
    "# Calculate precision, recall, and F1 score\n",
    "precision = precision_score(y_test, y_pred, average='macro')\n",
    "recall = recall_score(y_test, y_pred, average='macro')\n"
   ]
  },
  {
   "cell_type": "markdown",
   "metadata": {},
   "source": [
    "Logistic Regression after feature selection:"
   ]
  },
  {
   "cell_type": "code",
   "execution_count": 169,
   "metadata": {},
   "outputs": [
    {
     "data": {
      "text/plain": [
       "'# Create and train the Logistic Regression model using the selected features\\nLR_classifier_F = LogisticRegression()#(random_state=0, multi_class=\\'binary\\', solver=\\'lbfgs\\')\\nLR_classifier_F.fit(X_train_selected, y_train)\\n\\n# Make predictions on the test set using the selected features\\ny_pred = LR_classifier_F.predict(X_test_selected)\\n\\n\\n# Confusion Matrix\\ncm = confusion_matrix(y_test, y_pred)\\nprint(\"Confusion Matrix:\")\\nprint(cm)\\n\\n# Accuracy Score\\naccuracy = accuracy_score(y_test, y_pred)\\nprint(\\'Predictive Accuracy achieved for RFC:\\', accuracy * 100)\\n\\n# Calculate precision, recall, and F1 score\\nprecision = precision_score(y_test, y_pred, average=\\'macro\\')\\nrecall = recall_score(y_test, y_pred, average=\\'macro\\')\\nf1 = f1_score(y_test, y_pred, average=\\'macro\\')\\n\\nprint(f\"Macro Precision: {precision:.2f}\")\\nprint(f\"Macro Recall: {recall:.2f}\")\\nprint(f\"Macro F1 Score: {f1:.2f}\")'"
      ]
     },
     "execution_count": 169,
     "metadata": {},
     "output_type": "execute_result"
    }
   ],
   "source": [
    "'''# Create and train the Logistic Regression model using the selected features\n",
    "LR_classifier_F = LogisticRegression()#(random_state=0, multi_class='binary', solver='lbfgs')\n",
    "LR_classifier_F.fit(X_train_selected, y_train)\n",
    "\n",
    "# Make predictions on the test set using the selected features\n",
    "y_pred = LR_classifier_F.predict(X_test_selected)\n",
    "\n",
    "\n",
    "# Confusion Matrix\n",
    "cm = confusion_matrix(y_test, y_pred)\n",
    "print(\"Confusion Matrix:\")\n",
    "print(cm)\n",
    "\n",
    "# Accuracy Score\n",
    "accuracy = accuracy_score(y_test, y_pred)\n",
    "print('Predictive Accuracy achieved for RFC:', accuracy * 100)\n",
    "\n",
    "# Calculate precision, recall, and F1 score\n",
    "precision = precision_score(y_test, y_pred, average='macro')\n",
    "recall = recall_score(y_test, y_pred, average='macro')\n",
    "f1 = f1_score(y_test, y_pred, average='macro')\n",
    "\n",
    "print(f\"Macro Precision: {precision:.2f}\")\n",
    "print(f\"Macro Recall: {recall:.2f}\")\n",
    "print(f\"Macro F1 Score: {f1:.2f}\")'''\n"
   ]
  },
  {
   "cell_type": "markdown",
   "metadata": {},
   "source": [
    "K Nearest Neighbour:"
   ]
  },
  {
   "cell_type": "code",
   "execution_count": 170,
   "metadata": {},
   "outputs": [
    {
     "name": "stdout",
     "output_type": "stream",
     "text": [
      "Best Parameters for K-Nearest Neighbors:\n",
      "{'n_neighbors': 3, 'p': 1, 'weights': 'distance'}\n",
      "Confusion Matrix:\n",
      "[[51 14]\n",
      " [17 51]]\n",
      "Predictive Accuracy achieved for KNN: 76.69172932330827\n",
      "Weighted Precision: 0.77\n",
      "Weighted Recall: 0.77\n",
      "Weighted F1 Score: 0.77\n"
     ]
    }
   ],
   "source": [
    "# Assuming X_train, X_test, y_train, and y_test are already defined\n",
    "\n",
    "param_grid = {\n",
    "    'n_neighbors': [3, 5, 7],\n",
    "    'weights': ['uniform', 'distance'],\n",
    "    'p': [1, 2]\n",
    "}\n",
    "\n",
    "# Instantiate the KNeighborsClassifier\n",
    "knn_classifier = KNeighborsClassifier()\n",
    "\n",
    "# Perform GridSearchCV\n",
    "grid_search = GridSearchCV(knn_classifier, param_grid, cv=5, scoring='accuracy')\n",
    "grid_search.fit(X_train_scaled, y_train)\n",
    "\n",
    "# Print best parameters found by GridSearchCV\n",
    "print(\"Best Parameters for K-Nearest Neighbors:\")\n",
    "print(grid_search.best_params_)\n",
    "\n",
    "# Get the best model from GridSearchCV\n",
    "best_knn_model = grid_search.best_estimator_\n",
    "\n",
    "# Make predictions on the test set\n",
    "y_pred = best_knn_model.predict(X_test_scaled)\n",
    "\n",
    "# Confusion Matrix\n",
    "cm = confusion_matrix(y_test, y_pred)\n",
    "print(\"Confusion Matrix:\")\n",
    "print(cm)\n",
    "\n",
    "# Accuracy Score\n",
    "accuracy = accuracy_score(y_test, y_pred)\n",
    "print('Predictive Accuracy achieved for KNN:', accuracy * 100)\n",
    "\n",
    "# Calculate precision, recall, and F1 score\n",
    "precision = precision_score(y_test, y_pred, average='macro')\n",
    "recall = recall_score(y_test, y_pred, average='macro')\n",
    "f1 = f1_score(y_test, y_pred, average='macro')\n",
    "\n",
    "print(f\"Weighted Precision: {precision:.2f}\")\n",
    "print(f\"Weighted Recall: {recall:.2f}\")\n",
    "print(f\"Weighted F1 Score: {f1:.2f}\")\n"
   ]
  },
  {
   "cell_type": "markdown",
   "metadata": {},
   "source": [
    "K Nearest Neighbour after feature selection:"
   ]
  },
  {
   "cell_type": "code",
   "execution_count": 171,
   "metadata": {},
   "outputs": [
    {
     "data": {
      "text/plain": [
       "'KNN_classifier_F = KNeighborsClassifier(n_neighbors=5, metric=\\'minkowski\\', p=2)\\nKNN_classifier_F.fit(X_train_selected, y_train)\\n\\n# Make predictions on the test set using the selected features\\ny_pred = KNN_classifier_F.predict(X_test_selected)\\n\\nm = confusion_matrix(y_test, y_pred)\\nprint(\"Confusion Matrix:\")\\nprint(cm)\\n\\n## Accuracy Score\\naccuracy = accuracy_score(y_test, y_pred)\\nprint(\\'Predictive Accuracy achieved for RFC:\\', accuracy * 100)\\n\\n# Calculate precision, recall, and F1 score\\nprecision = precision_score(y_test, y_pred, average=\\'macro\\')\\nrecall = recall_score(y_test, y_pred, average=\\'macro\\')\\nf1 = f1_score(y_test, y_pred, average=\\'macro\\')\\n\\nprint(f\"Macro Precision: {precision:.2f}\")\\nprint(f\"Macro Recall: {recall:.2f}\")\\nprint(f\"Macro F1 Score: {f1:.2f}\")'"
      ]
     },
     "execution_count": 171,
     "metadata": {},
     "output_type": "execute_result"
    }
   ],
   "source": [
    "'''KNN_classifier_F = KNeighborsClassifier(n_neighbors=5, metric='minkowski', p=2)\n",
    "KNN_classifier_F.fit(X_train_selected, y_train)\n",
    "\n",
    "# Make predictions on the test set using the selected features\n",
    "y_pred = KNN_classifier_F.predict(X_test_selected)\n",
    "\n",
    "m = confusion_matrix(y_test, y_pred)\n",
    "print(\"Confusion Matrix:\")\n",
    "print(cm)\n",
    "\n",
    "## Accuracy Score\n",
    "accuracy = accuracy_score(y_test, y_pred)\n",
    "print('Predictive Accuracy achieved for RFC:', accuracy * 100)\n",
    "\n",
    "# Calculate precision, recall, and F1 score\n",
    "precision = precision_score(y_test, y_pred, average='macro')\n",
    "recall = recall_score(y_test, y_pred, average='macro')\n",
    "f1 = f1_score(y_test, y_pred, average='macro')\n",
    "\n",
    "print(f\"Macro Precision: {precision:.2f}\")\n",
    "print(f\"Macro Recall: {recall:.2f}\")\n",
    "print(f\"Macro F1 Score: {f1:.2f}\")'''"
   ]
  },
  {
   "cell_type": "markdown",
   "metadata": {},
   "source": [
    "Naive Bayes :"
   ]
  },
  {
   "cell_type": "code",
   "execution_count": 172,
   "metadata": {},
   "outputs": [
    {
     "name": "stdout",
     "output_type": "stream",
     "text": [
      "Best Parameters for Naive Bayes:\n",
      "{'priors': None}\n",
      "Confusion Matrix:\n",
      "[[37 28]\n",
      " [ 4 64]]\n",
      "Predictive Accuracy achieved for Naive Bayes: 75.93984962406014\n",
      "Weighted Precision: 0.80\n",
      "Weighted Recall: 0.76\n",
      "Weighted F1 Score: 0.75\n"
     ]
    }
   ],
   "source": [
    "param_grid = {\n",
    "    'priors': [None, [0.1, 0.9], [0.2, 0.8], [0.3, 0.7], [0.4, 0.6], [0.5, 0.5]]  # Prior probabilities for classes\n",
    "}\n",
    "\n",
    "# Create and train the Gaussian Naive Bayes classifier\n",
    "nb_classifier = GaussianNB()\n",
    "\n",
    "# Perform GridSearchCV\n",
    "grid_search = GridSearchCV(nb_classifier, param_grid, cv=5, scoring='accuracy')\n",
    "grid_search.fit(X_train_scaled, y_train)\n",
    "\n",
    "# Print best parameters found by GridSearchCV\n",
    "print(\"Best Parameters for Naive Bayes:\")\n",
    "print(grid_search.best_params_)\n",
    "\n",
    "# Get the best model from GridSearchCV\n",
    "best_nb_model = grid_search.best_estimator_\n",
    "\n",
    "# Make predictions on the test set\n",
    "y_pred = best_nb_model.predict(X_test_scaled)\n",
    "\n",
    "# Confusion Matrix\n",
    "cm = confusion_matrix(y_test, y_pred)\n",
    "print(\"Confusion Matrix:\")\n",
    "print(cm)\n",
    "\n",
    "# Accuracy Score\n",
    "accuracy = accuracy_score(y_test, y_pred)\n",
    "print('Predictive Accuracy achieved for Naive Bayes:', accuracy * 100)\n",
    "\n",
    "# Calculate precision, recall, and F1 score\n",
    "precision = precision_score(y_test, y_pred, average='macro')\n",
    "recall = recall_score(y_test, y_pred, average='macro')\n",
    "f1 = f1_score(y_test, y_pred, average='macro')\n",
    "\n",
    "print(f\"Weighted Precision: {precision:.2f}\")\n",
    "print(f\"Weighted Recall: {recall:.2f}\")\n",
    "print(f\"Weighted F1 Score: {f1:.2f}\")"
   ]
  },
  {
   "cell_type": "markdown",
   "metadata": {},
   "source": [
    "Naive Bayes after feature selection:"
   ]
  },
  {
   "cell_type": "code",
   "execution_count": 173,
   "metadata": {},
   "outputs": [
    {
     "data": {
      "text/plain": [
       "'NB_classifier_F = GaussianNB()\\nNB_classifier_F.fit(X_train_selected, y_train)\\n\\n# Make predictions on the test set using the selected features\\ny_pred = NB_classifier_F.predict(X_test_selected)\\n\\n# Confusion Matrix\\ncm = confusion_matrix(y_test, y_pred)\\nprint(\"Confusion Matrix:\")\\nprint(cm)\\n\\n# Accuracy Score\\naccuracy = accuracy_score(y_test, y_pred)\\nprint(\\'Predictive Accuracy achieved for RFC:\\', accuracy * 100)\\n\\n# Calculate precision, recall, and F1 score\\nprecision = precision_score(y_test, y_pred, average=\\'macro\\')\\nrecall = recall_score(y_test, y_pred, average=\\'macro\\')\\nf1 = f1_score(y_test, y_pred, average=\\'macro\\')\\n\\nprint(f\"Macro Precision: {precision:.2f}\")\\nprint(f\"Macro Recall: {recall:.2f}\")\\nprint(f\"Macro F1 Score: {f1:.2f}\")'"
      ]
     },
     "execution_count": 173,
     "metadata": {},
     "output_type": "execute_result"
    }
   ],
   "source": [
    "'''NB_classifier_F = GaussianNB()\n",
    "NB_classifier_F.fit(X_train_selected, y_train)\n",
    "\n",
    "# Make predictions on the test set using the selected features\n",
    "y_pred = NB_classifier_F.predict(X_test_selected)\n",
    "\n",
    "# Confusion Matrix\n",
    "cm = confusion_matrix(y_test, y_pred)\n",
    "print(\"Confusion Matrix:\")\n",
    "print(cm)\n",
    "\n",
    "# Accuracy Score\n",
    "accuracy = accuracy_score(y_test, y_pred)\n",
    "print('Predictive Accuracy achieved for RFC:', accuracy * 100)\n",
    "\n",
    "# Calculate precision, recall, and F1 score\n",
    "precision = precision_score(y_test, y_pred, average='macro')\n",
    "recall = recall_score(y_test, y_pred, average='macro')\n",
    "f1 = f1_score(y_test, y_pred, average='macro')\n",
    "\n",
    "print(f\"Macro Precision: {precision:.2f}\")\n",
    "print(f\"Macro Recall: {recall:.2f}\")\n",
    "print(f\"Macro F1 Score: {f1:.2f}\")'''\n"
   ]
  },
  {
   "cell_type": "markdown",
   "metadata": {},
   "source": [
    "Decision Tree:"
   ]
  },
  {
   "cell_type": "code",
   "execution_count": 174,
   "metadata": {},
   "outputs": [
    {
     "name": "stdout",
     "output_type": "stream",
     "text": [
      "Best Parameters for decision tree:\n",
      "{'max_depth': 20, 'min_samples_leaf': 1, 'min_samples_split': 2}\n",
      "Confusion Matrix:\n",
      "[[57  8]\n",
      " [18 50]]\n",
      "Predictive Accuracy achieved for DT: 80.45112781954887\n",
      "Weighted Precision: 0.81\n",
      "Weighted Recall: 0.81\n",
      "Weighted F1 Score: 0.80\n"
     ]
    }
   ],
   "source": [
    "\n",
    "# Assuming X_train, X_test, y_train, and y_test are already defined\n",
    "param_grid = {\n",
    "    'max_depth': [None, 5, 10, 20],  # Maximum depth of the tree\n",
    "    'min_samples_split': [2, 5, 10],  # Minimum number of samples required to split a node\n",
    "    'min_samples_leaf': [1, 2, 4]  # Minimum number of samples required at each leaf node\n",
    "} #### Decision Tree\n",
    "\n",
    "# Create and train the Decision Tree classifier\n",
    "DT_classifier = DecisionTreeClassifier()\n",
    "\n",
    "grid_search = GridSearchCV(DT_classifier, param_grid, cv=5, scoring='accuracy')\n",
    "grid_search.fit(X_train_scaled, y_train)\n",
    " \n",
    "# Print best parameters found by GridSearchCV\n",
    "print(\"Best Parameters for decision tree:\")\n",
    "print(grid_search.best_params_)\n",
    "\n",
    "# Get the best model from GridSearchCV\n",
    "best_dt_model = grid_search.best_estimator_\n",
    "\n",
    "# Make predictions on the test set\n",
    "y_pred = best_dt_model.predict(X_test_scaled)\n",
    "\n",
    "# Confusion Matrix\n",
    "cm = confusion_matrix(y_test, y_pred)\n",
    "print(\"Confusion Matrix:\")\n",
    "print(cm)\n",
    "\n",
    "# Accuracy Score\n",
    "accuracy = accuracy_score(y_test, y_pred)\n",
    "print('Predictive Accuracy achieved for DT:', accuracy * 100)\n",
    "\n",
    "# Calculate precision, recall, and F1 score\n",
    "precision = precision_score(y_test, y_pred, average='macro')\n",
    "recall = recall_score(y_test, y_pred, average='macro')\n",
    "f1 = f1_score(y_test, y_pred, average='macro')\n",
    "\n",
    "print(f\"Weighted Precision: {precision:.2f}\")\n",
    "print(f\"Weighted Recall: {recall:.2f}\")\n",
    "print(f\"Weighted F1 Score: {f1:.2f}\")"
   ]
  },
  {
   "cell_type": "markdown",
   "metadata": {},
   "source": [
    "Decision Tree after feature selection:"
   ]
  },
  {
   "cell_type": "code",
   "execution_count": 175,
   "metadata": {},
   "outputs": [
    {
     "data": {
      "text/plain": [
       "'DT_classifier_F = DecisionTreeClassifier(criterion=\\'gini\\', random_state=12)\\nDT_classifier_F.fit(X_train_selected, y_train)\\n\\n# Make predictions on the test set using the selected features\\ny_pred = DT_classifier_F.predict(X_test_selected)\\n\\n# Confusion Matrix\\ncm = confusion_matrix(y_test, y_pred)\\nprint(\"Confusion Matrix:\")\\nprint(cm)\\n\\n# Accuracy Score\\naccuracy = accuracy_score(y_test, y_pred)\\nprint(\\'Predictive Accuracy achieved for RFC:\\', accuracy * 100)\\n\\n# Calculate precision, recall, and F1 score\\nprecision = precision_score(y_test, y_pred, average=\\'macro\\')\\nrecall = recall_score(y_test, y_pred, average=\\'macro\\')\\nf1 = f1_score(y_test, y_pred, average=\\'macro\\')\\n\\nprint(f\"Macro Precision: {precision:.2f}\")\\nprint(f\"Macro Recall: {recall:.2f}\")\\nprint(f\"Macro F1 Score: {f1:.2f}\")'"
      ]
     },
     "execution_count": 175,
     "metadata": {},
     "output_type": "execute_result"
    }
   ],
   "source": [
    "\n",
    "\n",
    "'''DT_classifier_F = DecisionTreeClassifier(criterion='gini', random_state=12)\n",
    "DT_classifier_F.fit(X_train_selected, y_train)\n",
    "\n",
    "# Make predictions on the test set using the selected features\n",
    "y_pred = DT_classifier_F.predict(X_test_selected)\n",
    "\n",
    "# Confusion Matrix\n",
    "cm = confusion_matrix(y_test, y_pred)\n",
    "print(\"Confusion Matrix:\")\n",
    "print(cm)\n",
    "\n",
    "# Accuracy Score\n",
    "accuracy = accuracy_score(y_test, y_pred)\n",
    "print('Predictive Accuracy achieved for RFC:', accuracy * 100)\n",
    "\n",
    "# Calculate precision, recall, and F1 score\n",
    "precision = precision_score(y_test, y_pred, average='macro')\n",
    "recall = recall_score(y_test, y_pred, average='macro')\n",
    "f1 = f1_score(y_test, y_pred, average='macro')\n",
    "\n",
    "print(f\"Macro Precision: {precision:.2f}\")\n",
    "print(f\"Macro Recall: {recall:.2f}\")\n",
    "print(f\"Macro F1 Score: {f1:.2f}\")'''\n",
    "\n"
   ]
  },
  {
   "cell_type": "markdown",
   "metadata": {},
   "source": [
    "Random Forest:"
   ]
  },
  {
   "cell_type": "code",
   "execution_count": 176,
   "metadata": {},
   "outputs": [
    {
     "name": "stdout",
     "output_type": "stream",
     "text": [
      "Best Parameters for random forest:\n",
      "{'max_depth': 5, 'min_samples_leaf': 2, 'min_samples_split': 5, 'n_estimators': 200}\n",
      "Confusion Matrix:\n",
      "[[40 25]\n",
      " [ 5 63]]\n",
      "Predictive Accuracy achieved for RFC: 77.44360902255639\n",
      "Weighted Precision: 0.80\n",
      "Weighted Recall: 0.77\n",
      "Weighted F1 Score: 0.77\n"
     ]
    }
   ],
   "source": [
    "# Assuming X_train, X_test, y_train, and y_test are already defined\n",
    "param_grid = {\n",
    "    'n_estimators': [100, 200, 300],  # Number of trees in the forest\n",
    "    'max_depth': [None, 5, 10, 20],  # Maximum depth of the tree\n",
    "    'min_samples_split': [2, 5, 10],  # Minimum number of samples required to split a node\n",
    "    'min_samples_leaf': [1, 2, 4] \n",
    "}\n",
    "# Create and train the RandomForestClassifier\n",
    "\n",
    "RFC_classifier = RandomForestClassifier()\n",
    "\n",
    "# Perform GridSearchCV\n",
    "grid_search = GridSearchCV(RFC_classifier, param_grid, cv=5, scoring='accuracy')\n",
    "grid_search.fit(X_train_scaled, y_train)\n",
    " \n",
    "# Print best parameters found by GridSearchCV\n",
    "print(\"Best Parameters for random forest:\")\n",
    "print(grid_search.best_params_)\n",
    "\n",
    "# Get the best model from GridSearchCV\n",
    "best_rfc_model = grid_search.best_estimator_\n",
    "\n",
    "# Make predictions on the test set\n",
    "y_pred = best_rfc_model.predict(X_test_scaled)\n",
    "\n",
    "# Confusion Matrix\n",
    "cm = confusion_matrix(y_test, y_pred)\n",
    "print(\"Confusion Matrix:\")\n",
    "print(cm)\n",
    "\n",
    "# Accuracy Score\n",
    "accuracy = accuracy_score(y_test, y_pred)\n",
    "print('Predictive Accuracy achieved for RFC:', accuracy * 100)\n",
    "\n",
    "# Calculate precision, recall, and F1 score\n",
    "precision = precision_score(y_test, y_pred, average='macro')\n",
    "recall = recall_score(y_test, y_pred, average='macro')\n",
    "f1 = f1_score(y_test, y_pred, average='macro')\n",
    "\n",
    "print(f\"Weighted Precision: {precision:.2f}\")\n",
    "print(f\"Weighted Recall: {recall:.2f}\")\n",
    "print(f\"Weighted F1 Score: {f1:.2f}\")"
   ]
  },
  {
   "cell_type": "markdown",
   "metadata": {},
   "source": [
    "Random Forest after feature selection:"
   ]
  },
  {
   "cell_type": "code",
   "execution_count": 177,
   "metadata": {},
   "outputs": [
    {
     "data": {
      "text/plain": [
       "'RFC_classifier_F = RandomForestClassifier(n_estimators=1000, criterion=\\'entropy\\', random_state=42)\\nRFC_classifier_F.fit(X_train_selected, y_train)\\n\\n# Make predictions on the test set using the selected features\\ny_pred = RFC_classifier_F.predict(X_test_selected)\\n\\n# Confusion Matrix\\ncm = confusion_matrix(y_test, y_pred)\\nprint(\"Confusion Matrix:\")\\nprint(cm)\\n\\n# Accuracy Score\\naccuracy = accuracy_score(y_test, y_pred)\\nprint(\\'Predictive Accuracy achieved for RFC:\\', accuracy * 100)\\n\\n# Calculate precision, recall, and F1 score\\nprecision = precision_score(y_test, y_pred, average=\\'macro\\')\\nrecall = recall_score(y_test, y_pred, average=\\'macro\\')\\nf1 = f1_score(y_test, y_pred, average=\\'macro\\')\\n\\nprint(f\"Macro Precision: {precision:.2f}\")\\nprint(f\"Macro Recall: {recall:.2f}\")\\nprint(f\"Macro F1 Score: {f1:.2f}\")'"
      ]
     },
     "execution_count": 177,
     "metadata": {},
     "output_type": "execute_result"
    }
   ],
   "source": [
    "'''RFC_classifier_F = RandomForestClassifier(n_estimators=1000, criterion='entropy', random_state=42)\n",
    "RFC_classifier_F.fit(X_train_selected, y_train)\n",
    "\n",
    "# Make predictions on the test set using the selected features\n",
    "y_pred = RFC_classifier_F.predict(X_test_selected)\n",
    "\n",
    "# Confusion Matrix\n",
    "cm = confusion_matrix(y_test, y_pred)\n",
    "print(\"Confusion Matrix:\")\n",
    "print(cm)\n",
    "\n",
    "# Accuracy Score\n",
    "accuracy = accuracy_score(y_test, y_pred)\n",
    "print('Predictive Accuracy achieved for RFC:', accuracy * 100)\n",
    "\n",
    "# Calculate precision, recall, and F1 score\n",
    "precision = precision_score(y_test, y_pred, average='macro')\n",
    "recall = recall_score(y_test, y_pred, average='macro')\n",
    "f1 = f1_score(y_test, y_pred, average='macro')\n",
    "\n",
    "print(f\"Macro Precision: {precision:.2f}\")\n",
    "print(f\"Macro Recall: {recall:.2f}\")\n",
    "print(f\"Macro F1 Score: {f1:.2f}\")'''"
   ]
  },
  {
   "cell_type": "markdown",
   "metadata": {},
   "source": [
    "SVM:"
   ]
  },
  {
   "cell_type": "code",
   "execution_count": 178,
   "metadata": {},
   "outputs": [
    {
     "name": "stdout",
     "output_type": "stream",
     "text": [
      "Best Parameters for svm:\n",
      "{'C': 10, 'gamma': 'scale', 'kernel': 'rbf'}\n",
      "Confusion Matrix:\n",
      "[[49 16]\n",
      " [13 55]]\n",
      "Predictive Accuracy achieved for svm: 78.19548872180451\n",
      "Weighted Precision: 0.78\n",
      "Weighted Recall: 0.78\n",
      "Weighted F1 Score: 0.78\n"
     ]
    }
   ],
   "source": [
    "\n",
    "# Assuming X_train, X_test, y_train, and y_test are already defined\n",
    "param_grid = {\n",
    "    'C': [1, 10, 100, 1000],   # Regularization parameter\n",
    "    'kernel': ['linear',  'rbf'],  # Kernel type\n",
    "    'gamma': ['scale', 'auto']  # Kernel coefficient\n",
    "} ####SVM\n",
    "# Create and train the SVM classifier\n",
    "SVM_classifier = SVC()\n",
    "\n",
    "\n",
    "grid_search = GridSearchCV(SVM_classifier, param_grid, cv=5, scoring='accuracy')\n",
    "grid_search.fit(X_train_scaled, y_train)\n",
    " \n",
    "# Print best parameters found by GridSearchCV\n",
    "print(\"Best Parameters for svm:\")\n",
    "print(grid_search.best_params_)\n",
    "\n",
    "# Get the best model from GridSearchCV\n",
    "best_svm_model = grid_search.best_estimator_\n",
    "\n",
    "# Make predictions on the test set\n",
    "y_pred = best_svm_model.predict(X_test_scaled)\n",
    "\n",
    "# Confusion Matrix\n",
    "cm = confusion_matrix(y_test, y_pred)\n",
    "print(\"Confusion Matrix:\")\n",
    "print(cm)\n",
    "\n",
    "# Accuracy Score\n",
    "accuracy = accuracy_score(y_test, y_pred)\n",
    "print('Predictive Accuracy achieved for svm:', accuracy * 100)\n",
    "\n",
    "# Calculate precision, recall, and F1 score\n",
    "precision = precision_score(y_test, y_pred, average='macro')\n",
    "recall = recall_score(y_test, y_pred, average='macro')\n",
    "f1 = f1_score(y_test, y_pred, average='macro')\n",
    "\n",
    "print(f\"Weighted Precision: {precision:.2f}\")\n",
    "print(f\"Weighted Recall: {recall:.2f}\")\n",
    "print(f\"Weighted F1 Score: {f1:.2f}\")"
   ]
  },
  {
   "cell_type": "markdown",
   "metadata": {},
   "source": [
    "SVM after featue selection:"
   ]
  },
  {
   "cell_type": "code",
   "execution_count": 179,
   "metadata": {},
   "outputs": [
    {
     "data": {
      "text/plain": [
       "'SVM_classifier_F = SVC(kernel=\\'linear\\', random_state=42)\\nSVM_classifier_F.fit(X_train_selected , y_train)\\n\\n# Make predictions on the test set\\ny_pred = SVM_classifier_F.predict(X_test_selected)\\n\\n# Confusion Matrix\\ncm = confusion_matrix(y_test, y_pred)\\nprint(\"Confusion Matrix:\")\\nprint(cm)\\n\\n# Accuracy Score\\naccuracy = accuracy_score(y_test, y_pred)\\nprint(\\'Predictive Accuracy achieved for SVM:\\', accuracy * 100)\\n\\n# Calculate precision, recall, and F1 score\\nprecision = precision_score(y_test, y_pred, average=\\'macro\\')\\nrecall = recall_score(y_test, y_pred, average=\\'macro\\')\\nf1 = f1_score(y_test, y_pred, average=\\'macro\\')\\n\\nprint(f\"Macro Precision: {precision:.2f}\")\\nprint(f\"Macro Recall: {recall:.2f}\")\\nprint(f\"Macro F1 Score: {f1:.2f}\")'"
      ]
     },
     "execution_count": 179,
     "metadata": {},
     "output_type": "execute_result"
    }
   ],
   "source": [
    "'''SVM_classifier_F = SVC(kernel='linear', random_state=42)\n",
    "SVM_classifier_F.fit(X_train_selected , y_train)\n",
    "\n",
    "# Make predictions on the test set\n",
    "y_pred = SVM_classifier_F.predict(X_test_selected)\n",
    "\n",
    "# Confusion Matrix\n",
    "cm = confusion_matrix(y_test, y_pred)\n",
    "print(\"Confusion Matrix:\")\n",
    "print(cm)\n",
    "\n",
    "# Accuracy Score\n",
    "accuracy = accuracy_score(y_test, y_pred)\n",
    "print('Predictive Accuracy achieved for SVM:', accuracy * 100)\n",
    "\n",
    "# Calculate precision, recall, and F1 score\n",
    "precision = precision_score(y_test, y_pred, average='macro')\n",
    "recall = recall_score(y_test, y_pred, average='macro')\n",
    "f1 = f1_score(y_test, y_pred, average='macro')\n",
    "\n",
    "print(f\"Macro Precision: {precision:.2f}\")\n",
    "print(f\"Macro Recall: {recall:.2f}\")\n",
    "print(f\"Macro F1 Score: {f1:.2f}\")'''"
   ]
  },
  {
   "cell_type": "markdown",
   "metadata": {},
   "source": [
    "Gradiant Boosting:"
   ]
  },
  {
   "cell_type": "code",
   "execution_count": 180,
   "metadata": {},
   "outputs": [
    {
     "name": "stdout",
     "output_type": "stream",
     "text": [
      "Best Parameters for gradient boosting:\n",
      "{'learning_rate': 0.1, 'max_depth': 7, 'n_estimators': 100}\n",
      "Confusion Matrix:\n",
      "[[57  8]\n",
      " [ 9 59]]\n",
      "Predictive Accuracy achieved for gradient boosting: 87.21804511278195\n",
      "Weighted Precision: 0.87\n",
      "Weighted Recall: 0.87\n",
      "Weighted F1 Score: 0.87\n"
     ]
    }
   ],
   "source": [
    "\n",
    "param_grid = {\n",
    "    'n_estimators': [50, 100, 150],  # Number of boosting stages\n",
    "    'learning_rate': [0.01, 0.1, 0.2],  # Step size shrinkage used in update to prevent overfitting\n",
    "    'max_depth': [3, 5, 7]  # Maximum depth of the individual trees\n",
    "}  #### Gradient Boosting\n",
    "\n",
    "GB_classifier = GradientBoostingClassifier()\n",
    "\n",
    "\n",
    "grid_search = GridSearchCV(GB_classifier, param_grid, cv=5, scoring='accuracy')\n",
    "grid_search.fit(X_train_scaled, y_train)\n",
    " \n",
    "# Print best parameters found by GridSearchCV\n",
    "print(\"Best Parameters for gradient boosting:\")\n",
    "print(grid_search.best_params_)\n",
    "\n",
    "# Get the best model from GridSearchCV\n",
    "best_gb_model = grid_search.best_estimator_\n",
    "\n",
    "# Make predictions on the test set\n",
    "y_pred = best_gb_model.predict(X_test_scaled)\n",
    "\n",
    "# Confusion Matrix\n",
    "cm = confusion_matrix(y_test, y_pred)\n",
    "print(\"Confusion Matrix:\")\n",
    "print(cm)\n",
    "\n",
    "# Accuracy Score\n",
    "accuracy = accuracy_score(y_test, y_pred)\n",
    "print('Predictive Accuracy achieved for gradient boosting:', accuracy * 100)\n",
    "\n",
    "# Calculate precision, recall, and F1 score\n",
    "precision = precision_score(y_test, y_pred, average='macro')\n",
    "recall = recall_score(y_test, y_pred, average='macro')\n",
    "f1 = f1_score(y_test, y_pred, average='macro')\n",
    "\n",
    "print(f\"Weighted Precision: {precision:.2f}\")\n",
    "print(f\"Weighted Recall: {recall:.2f}\")\n",
    "print(f\"Weighted F1 Score: {f1:.2f}\")"
   ]
  },
  {
   "cell_type": "markdown",
   "metadata": {},
   "source": [
    "Gradiant Boosting after feature selection:"
   ]
  },
  {
   "cell_type": "code",
   "execution_count": 181,
   "metadata": {},
   "outputs": [
    {
     "data": {
      "text/plain": [
       "'GB_classifier1 = GradientBoostingClassifier(n_estimators=10, learning_rate=0.1, max_depth=3, random_state=42)\\nGB_classifier1.fit(X_train_selected , y_train)\\n\\n# Make predictions on the test set\\ny_pred_gb = GB_classifier1.predict(X_test_selected)\\n\\n# Confusion Matrix\\ncm_gb = confusion_matrix(y_test, y_pred_gb)\\nprint(\"Confusion Matrix:\")\\nprint(cm_gb)\\n\\n# Accuracy Score\\naccuracy_gb = accuracy_score(y_test, y_pred_gb)\\nprint(\\'Predictive Accuracy achieved for Gradient Boosting:\\', accuracy_gb * 100)\\n\\n# Calculate precision, recall, and F1 score\\nprecision_gb = precision_score(y_test, y_pred_gb, average=\\'macro\\')\\nrecall_gb = recall_score(y_test, y_pred_gb, average=\\'macro\\')\\nf1_gb = f1_score(y_test, y_pred_gb, average=\\'macro\\')\\n\\nprint(f\"Macro Precision: {precision_gb:.2f}\")\\nprint(f\"Macro Recall: {recall_gb:.2f}\")\\nprint(f\"Macro F1 Score: {f1_gb:.2f}\")'"
      ]
     },
     "execution_count": 181,
     "metadata": {},
     "output_type": "execute_result"
    }
   ],
   "source": [
    "'''GB_classifier1 = GradientBoostingClassifier(n_estimators=10, learning_rate=0.1, max_depth=3, random_state=42)\n",
    "GB_classifier1.fit(X_train_selected , y_train)\n",
    "\n",
    "# Make predictions on the test set\n",
    "y_pred_gb = GB_classifier1.predict(X_test_selected)\n",
    "\n",
    "# Confusion Matrix\n",
    "cm_gb = confusion_matrix(y_test, y_pred_gb)\n",
    "print(\"Confusion Matrix:\")\n",
    "print(cm_gb)\n",
    "\n",
    "# Accuracy Score\n",
    "accuracy_gb = accuracy_score(y_test, y_pred_gb)\n",
    "print('Predictive Accuracy achieved for Gradient Boosting:', accuracy_gb * 100)\n",
    "\n",
    "# Calculate precision, recall, and F1 score\n",
    "precision_gb = precision_score(y_test, y_pred_gb, average='macro')\n",
    "recall_gb = recall_score(y_test, y_pred_gb, average='macro')\n",
    "f1_gb = f1_score(y_test, y_pred_gb, average='macro')\n",
    "\n",
    "print(f\"Macro Precision: {precision_gb:.2f}\")\n",
    "print(f\"Macro Recall: {recall_gb:.2f}\")\n",
    "print(f\"Macro F1 Score: {f1_gb:.2f}\")'''"
   ]
  },
  {
   "cell_type": "code",
   "execution_count": 182,
   "metadata": {},
   "outputs": [
    {
     "name": "stdout",
     "output_type": "stream",
     "text": [
      "(367, 12)\n"
     ]
    }
   ],
   "source": [
    "test_data = pd.read_csv(r\"C:\\Users\\Khushi Chaudhari\\Desktop\\homeloan\\loan_sanction_test.csv\")\n",
    "print(test_data.shape)"
   ]
  },
  {
   "cell_type": "code",
   "execution_count": 183,
   "metadata": {},
   "outputs": [
    {
     "data": {
      "text/html": [
       "<div>\n",
       "<style scoped>\n",
       "    .dataframe tbody tr th:only-of-type {\n",
       "        vertical-align: middle;\n",
       "    }\n",
       "\n",
       "    .dataframe tbody tr th {\n",
       "        vertical-align: top;\n",
       "    }\n",
       "\n",
       "    .dataframe thead th {\n",
       "        text-align: right;\n",
       "    }\n",
       "</style>\n",
       "<table border=\"1\" class=\"dataframe\">\n",
       "  <thead>\n",
       "    <tr style=\"text-align: right;\">\n",
       "      <th></th>\n",
       "      <th>Loan_ID</th>\n",
       "      <th>Gender</th>\n",
       "      <th>Married</th>\n",
       "      <th>Dependents</th>\n",
       "      <th>Education</th>\n",
       "      <th>Self_Employed</th>\n",
       "      <th>ApplicantIncome</th>\n",
       "      <th>CoapplicantIncome</th>\n",
       "      <th>LoanAmount</th>\n",
       "      <th>Loan_Amount_Term</th>\n",
       "      <th>Credit_History</th>\n",
       "      <th>Property_Area</th>\n",
       "    </tr>\n",
       "  </thead>\n",
       "  <tbody>\n",
       "    <tr>\n",
       "      <th>0</th>\n",
       "      <td>LP001015</td>\n",
       "      <td>Male</td>\n",
       "      <td>Yes</td>\n",
       "      <td>0</td>\n",
       "      <td>Graduate</td>\n",
       "      <td>No</td>\n",
       "      <td>5720</td>\n",
       "      <td>0</td>\n",
       "      <td>110.0</td>\n",
       "      <td>360.0</td>\n",
       "      <td>1.0</td>\n",
       "      <td>Urban</td>\n",
       "    </tr>\n",
       "    <tr>\n",
       "      <th>1</th>\n",
       "      <td>LP001022</td>\n",
       "      <td>Male</td>\n",
       "      <td>Yes</td>\n",
       "      <td>1</td>\n",
       "      <td>Graduate</td>\n",
       "      <td>No</td>\n",
       "      <td>3076</td>\n",
       "      <td>1500</td>\n",
       "      <td>126.0</td>\n",
       "      <td>360.0</td>\n",
       "      <td>1.0</td>\n",
       "      <td>Urban</td>\n",
       "    </tr>\n",
       "    <tr>\n",
       "      <th>2</th>\n",
       "      <td>LP001031</td>\n",
       "      <td>Male</td>\n",
       "      <td>Yes</td>\n",
       "      <td>2</td>\n",
       "      <td>Graduate</td>\n",
       "      <td>No</td>\n",
       "      <td>5000</td>\n",
       "      <td>1800</td>\n",
       "      <td>208.0</td>\n",
       "      <td>360.0</td>\n",
       "      <td>1.0</td>\n",
       "      <td>Urban</td>\n",
       "    </tr>\n",
       "    <tr>\n",
       "      <th>3</th>\n",
       "      <td>LP001035</td>\n",
       "      <td>Male</td>\n",
       "      <td>Yes</td>\n",
       "      <td>2</td>\n",
       "      <td>Graduate</td>\n",
       "      <td>No</td>\n",
       "      <td>2340</td>\n",
       "      <td>2546</td>\n",
       "      <td>100.0</td>\n",
       "      <td>360.0</td>\n",
       "      <td>NaN</td>\n",
       "      <td>Urban</td>\n",
       "    </tr>\n",
       "    <tr>\n",
       "      <th>4</th>\n",
       "      <td>LP001051</td>\n",
       "      <td>Male</td>\n",
       "      <td>No</td>\n",
       "      <td>0</td>\n",
       "      <td>Not Graduate</td>\n",
       "      <td>No</td>\n",
       "      <td>3276</td>\n",
       "      <td>0</td>\n",
       "      <td>78.0</td>\n",
       "      <td>360.0</td>\n",
       "      <td>1.0</td>\n",
       "      <td>Urban</td>\n",
       "    </tr>\n",
       "  </tbody>\n",
       "</table>\n",
       "</div>"
      ],
      "text/plain": [
       "    Loan_ID Gender Married Dependents     Education Self_Employed  \\\n",
       "0  LP001015   Male     Yes          0      Graduate            No   \n",
       "1  LP001022   Male     Yes          1      Graduate            No   \n",
       "2  LP001031   Male     Yes          2      Graduate            No   \n",
       "3  LP001035   Male     Yes          2      Graduate            No   \n",
       "4  LP001051   Male      No          0  Not Graduate            No   \n",
       "\n",
       "   ApplicantIncome  CoapplicantIncome  LoanAmount  Loan_Amount_Term  \\\n",
       "0             5720                  0       110.0             360.0   \n",
       "1             3076               1500       126.0             360.0   \n",
       "2             5000               1800       208.0             360.0   \n",
       "3             2340               2546       100.0             360.0   \n",
       "4             3276                  0        78.0             360.0   \n",
       "\n",
       "   Credit_History Property_Area  \n",
       "0             1.0         Urban  \n",
       "1             1.0         Urban  \n",
       "2             1.0         Urban  \n",
       "3             NaN         Urban  \n",
       "4             1.0         Urban  "
      ]
     },
     "execution_count": 183,
     "metadata": {},
     "output_type": "execute_result"
    }
   ],
   "source": [
    "test_data.head()"
   ]
  },
  {
   "cell_type": "code",
   "execution_count": 184,
   "metadata": {},
   "outputs": [
    {
     "data": {
      "text/plain": [
       "Loan_ID               0\n",
       "Gender               11\n",
       "Married               0\n",
       "Dependents           10\n",
       "Education             0\n",
       "Self_Employed        23\n",
       "ApplicantIncome       0\n",
       "CoapplicantIncome     0\n",
       "LoanAmount            5\n",
       "Loan_Amount_Term      6\n",
       "Credit_History       29\n",
       "Property_Area         0\n",
       "dtype: int64"
      ]
     },
     "execution_count": 184,
     "metadata": {},
     "output_type": "execute_result"
    }
   ],
   "source": [
    "test_data.isnull().sum()"
   ]
  },
  {
   "cell_type": "code",
   "execution_count": 185,
   "metadata": {},
   "outputs": [
    {
     "data": {
      "text/plain": [
       "Loan_ID              False\n",
       "Gender                True\n",
       "Married              False\n",
       "Dependents            True\n",
       "Education            False\n",
       "Self_Employed         True\n",
       "ApplicantIncome      False\n",
       "CoapplicantIncome    False\n",
       "LoanAmount            True\n",
       "Loan_Amount_Term      True\n",
       "Credit_History        True\n",
       "Property_Area        False\n",
       "dtype: bool"
      ]
     },
     "execution_count": 185,
     "metadata": {},
     "output_type": "execute_result"
    }
   ],
   "source": [
    "test_data.isnull().any()"
   ]
  },
  {
   "cell_type": "code",
   "execution_count": 186,
   "metadata": {},
   "outputs": [
    {
     "data": {
      "text/html": [
       "<div>\n",
       "<style scoped>\n",
       "    .dataframe tbody tr th:only-of-type {\n",
       "        vertical-align: middle;\n",
       "    }\n",
       "\n",
       "    .dataframe tbody tr th {\n",
       "        vertical-align: top;\n",
       "    }\n",
       "\n",
       "    .dataframe thead th {\n",
       "        text-align: right;\n",
       "    }\n",
       "</style>\n",
       "<table border=\"1\" class=\"dataframe\">\n",
       "  <thead>\n",
       "    <tr style=\"text-align: right;\">\n",
       "      <th></th>\n",
       "      <th>ApplicantIncome</th>\n",
       "      <th>CoapplicantIncome</th>\n",
       "      <th>LoanAmount</th>\n",
       "      <th>Loan_Amount_Term</th>\n",
       "      <th>Credit_History</th>\n",
       "    </tr>\n",
       "  </thead>\n",
       "  <tbody>\n",
       "    <tr>\n",
       "      <th>count</th>\n",
       "      <td>367.000000</td>\n",
       "      <td>367.000000</td>\n",
       "      <td>362.000000</td>\n",
       "      <td>361.000000</td>\n",
       "      <td>338.000000</td>\n",
       "    </tr>\n",
       "    <tr>\n",
       "      <th>mean</th>\n",
       "      <td>4805.599455</td>\n",
       "      <td>1569.577657</td>\n",
       "      <td>136.132597</td>\n",
       "      <td>342.537396</td>\n",
       "      <td>0.825444</td>\n",
       "    </tr>\n",
       "    <tr>\n",
       "      <th>std</th>\n",
       "      <td>4910.685399</td>\n",
       "      <td>2334.232099</td>\n",
       "      <td>61.366652</td>\n",
       "      <td>65.156643</td>\n",
       "      <td>0.380150</td>\n",
       "    </tr>\n",
       "    <tr>\n",
       "      <th>min</th>\n",
       "      <td>0.000000</td>\n",
       "      <td>0.000000</td>\n",
       "      <td>28.000000</td>\n",
       "      <td>6.000000</td>\n",
       "      <td>0.000000</td>\n",
       "    </tr>\n",
       "    <tr>\n",
       "      <th>25%</th>\n",
       "      <td>2864.000000</td>\n",
       "      <td>0.000000</td>\n",
       "      <td>100.250000</td>\n",
       "      <td>360.000000</td>\n",
       "      <td>1.000000</td>\n",
       "    </tr>\n",
       "    <tr>\n",
       "      <th>50%</th>\n",
       "      <td>3786.000000</td>\n",
       "      <td>1025.000000</td>\n",
       "      <td>125.000000</td>\n",
       "      <td>360.000000</td>\n",
       "      <td>1.000000</td>\n",
       "    </tr>\n",
       "    <tr>\n",
       "      <th>75%</th>\n",
       "      <td>5060.000000</td>\n",
       "      <td>2430.500000</td>\n",
       "      <td>158.000000</td>\n",
       "      <td>360.000000</td>\n",
       "      <td>1.000000</td>\n",
       "    </tr>\n",
       "    <tr>\n",
       "      <th>max</th>\n",
       "      <td>72529.000000</td>\n",
       "      <td>24000.000000</td>\n",
       "      <td>550.000000</td>\n",
       "      <td>480.000000</td>\n",
       "      <td>1.000000</td>\n",
       "    </tr>\n",
       "  </tbody>\n",
       "</table>\n",
       "</div>"
      ],
      "text/plain": [
       "       ApplicantIncome  CoapplicantIncome  LoanAmount  Loan_Amount_Term  \\\n",
       "count       367.000000         367.000000  362.000000        361.000000   \n",
       "mean       4805.599455        1569.577657  136.132597        342.537396   \n",
       "std        4910.685399        2334.232099   61.366652         65.156643   \n",
       "min           0.000000           0.000000   28.000000          6.000000   \n",
       "25%        2864.000000           0.000000  100.250000        360.000000   \n",
       "50%        3786.000000        1025.000000  125.000000        360.000000   \n",
       "75%        5060.000000        2430.500000  158.000000        360.000000   \n",
       "max       72529.000000       24000.000000  550.000000        480.000000   \n",
       "\n",
       "       Credit_History  \n",
       "count      338.000000  \n",
       "mean         0.825444  \n",
       "std          0.380150  \n",
       "min          0.000000  \n",
       "25%          1.000000  \n",
       "50%          1.000000  \n",
       "75%          1.000000  \n",
       "max          1.000000  "
      ]
     },
     "execution_count": 186,
     "metadata": {},
     "output_type": "execute_result"
    }
   ],
   "source": [
    "test_data.describe()"
   ]
  },
  {
   "cell_type": "code",
   "execution_count": 187,
   "metadata": {},
   "outputs": [
    {
     "name": "stdout",
     "output_type": "stream",
     "text": [
      "<class 'pandas.core.frame.DataFrame'>\n",
      "RangeIndex: 367 entries, 0 to 366\n",
      "Data columns (total 12 columns):\n",
      " #   Column             Non-Null Count  Dtype  \n",
      "---  ------             --------------  -----  \n",
      " 0   Loan_ID            367 non-null    object \n",
      " 1   Gender             356 non-null    object \n",
      " 2   Married            367 non-null    object \n",
      " 3   Dependents         357 non-null    object \n",
      " 4   Education          367 non-null    object \n",
      " 5   Self_Employed      344 non-null    object \n",
      " 6   ApplicantIncome    367 non-null    int64  \n",
      " 7   CoapplicantIncome  367 non-null    int64  \n",
      " 8   LoanAmount         362 non-null    float64\n",
      " 9   Loan_Amount_Term   361 non-null    float64\n",
      " 10  Credit_History     338 non-null    float64\n",
      " 11  Property_Area      367 non-null    object \n",
      "dtypes: float64(3), int64(2), object(7)\n",
      "memory usage: 34.5+ KB\n"
     ]
    }
   ],
   "source": [
    "test_data.info()"
   ]
  },
  {
   "cell_type": "code",
   "execution_count": 188,
   "metadata": {},
   "outputs": [],
   "source": [
    "test_data_2= test_data.drop(columns=('Loan_ID'))"
   ]
  },
  {
   "cell_type": "code",
   "execution_count": 189,
   "metadata": {},
   "outputs": [],
   "source": [
    "#Encoding \"Gender\" Column\n",
    "test_data_2.replace({'Gender':{'Male':0,'Female':1,'0   NaN\\ndtype':2}}, inplace= True)\n",
    "\n",
    "#Encoding \"Married\" Column\n",
    "test_data_2.replace({'Married':{'No':0,'Yes':1,'0   NaN\\ndtype':2}}, inplace= True)\n",
    "\n",
    "#Encoding \"Education\" Column\n",
    "test_data_2.replace({'Education':{'Graduate':0,'Not Graduate':1}}, inplace= True)\n",
    "\n",
    "#Encoding \"Self_Employed\" Column\n",
    "test_data_2.replace({'Self_Employed':{'No':0,'Yes':1,'0   NaN\\ndtype':2}}, inplace= True)\n",
    "\n",
    "#Encoding \"Property_Area\" Column\n",
    "test_data_2.replace({'Property_Area':{'Semiurban':0,'Urban':1,'Rural':2}}, inplace= True)\n",
    "\n",
    "#Encoding \"Dependents\" Column\n",
    "test_data_2.replace({'Dependents':{'0':0,'1':1,'2':2,'3+':3,'0   NaN\\ndtype':4}}, inplace= True)\n",
    "\n",
    "#Encoding \"Loan_Status\" Column\n",
    "test_data_2.replace({'Loan_Status':{'Y':1, 'N':0}}, inplace= True)\n"
   ]
  },
  {
   "cell_type": "code",
   "execution_count": 190,
   "metadata": {},
   "outputs": [],
   "source": [
    "#droping null values and nan values\n",
    "test_data_new = test_data_2.dropna()"
   ]
  },
  {
   "cell_type": "code",
   "execution_count": 191,
   "metadata": {},
   "outputs": [],
   "source": [
    "X_test = test_data_new"
   ]
  },
  {
   "cell_type": "code",
   "execution_count": 193,
   "metadata": {},
   "outputs": [],
   "source": [
    "\n",
    "\n",
    "# Make predictions on the testing set\n",
    "y_pred = best_rfc_model.predict(X_test)\n",
    "\n",
    "# Save the predicted labels to a text file\n",
    "np.savetxt(\"predicted_labels_home_loan_rfc_final.txt\", y_pred, fmt=\"%d\")\n",
    "\n",
    "\n"
   ]
  }
 ],
 "metadata": {
  "kernelspec": {
   "display_name": "Python 3",
   "language": "python",
   "name": "python3"
  },
  "language_info": {
   "codemirror_mode": {
    "name": "ipython",
    "version": 3
   },
   "file_extension": ".py",
   "mimetype": "text/x-python",
   "name": "python",
   "nbconvert_exporter": "python",
   "pygments_lexer": "ipython3",
   "version": "3.11.4"
  }
 },
 "nbformat": 4,
 "nbformat_minor": 2
}
